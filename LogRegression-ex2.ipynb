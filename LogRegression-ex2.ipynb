{
 "cells": [
  {
   "cell_type": "code",
   "execution_count": 2,
   "metadata": {},
   "outputs": [],
   "source": [
    "import matplotlib.pyplot as plt\n",
    "import numpy as np"
   ]
  },
  {
   "cell_type": "markdown",
   "metadata": {},
   "source": [
    "## logistic regression"
   ]
  },
  {
   "cell_type": "code",
   "execution_count": 85,
   "metadata": {},
   "outputs": [
    {
     "data": {
      "text/plain": [
       "Text(0, 0.5, 'Exam 2 score')"
      ]
     },
     "execution_count": 85,
     "metadata": {},
     "output_type": "execute_result"
    },
    {
     "data": {
      "image/png": "[encoded data removed]",
      "text/plain": [
       "<Figure size 432x288 with 1 Axes>"
      ]
     },
     "metadata": {
      "needs_background": "light"
     },
     "output_type": "display_data"
    }
   ],
   "source": [
    "data = np.loadtxt('ex2data1.txt',delimiter=',')\n",
    "X = data[:,:2]\n",
    "y = data[:,2]\n",
    "admitted= y==1\n",
    "not_admitted= y==0\n",
    "plt.plot(X[admitted,0],X[admitted,1],'k+',lw=1,label=\"admitted\")\n",
    "plt.plot(X[not_admitted,0],X[not_admitted,1],'ko',lw=0.5,ms=4,color=\"orange\",label=\"not-admitted\")\n",
    "plt.legend(loc='upper right')\n",
    "plt.xlabel(\"Exam 1 score\")\n",
    "plt.ylabel(\"Exam 2 score\")"
   ]
  },
  {
   "cell_type": "markdown",
   "metadata": {},
   "source": [
    "${h_{\\theta}(x)=g(\\theta^T X)}$\n",
    "\n",
    "${g(z)=1/(1+e^{-z})}$"
   ]
  },
  {
   "cell_type": "code",
   "execution_count": 86,
   "metadata": {},
   "outputs": [],
   "source": [
    "def sigmoid(z):\n",
    "    #z can be 1d array or 2d matrix\n",
    "    z = np.array(z)\n",
    "    g = np.zeros(z.shape)\n",
    "    g = 1 / (1+np.exp(-z))\n",
    "    return g"
   ]
  },
  {
   "cell_type": "code",
   "execution_count": 87,
   "metadata": {},
   "outputs": [],
   "source": [
    "def cost_function(theta, X, y):\n",
    "    m = y.size\n",
    "\n",
    "    # You need to return the following values correctly\n",
    "    cost = 0\n",
    "    grad = np.zeros(theta.shape)\n",
    "    \n",
    "    temp=sigmoid(X.dot(theta.T))\n",
    "    cost = (1/m)*np.sum(-y.dot(np.log(temp))-(1-y).dot(np.log(1-temp)))\n",
    "    grad = (1/m) * (temp-y).dot(X)\n",
    "        \n",
    "    return cost, grad"
   ]
  },
  {
   "cell_type": "code",
   "execution_count": 89,
   "metadata": {},
   "outputs": [
    {
     "name": "stdout",
     "output_type": "stream",
     "text": [
      "3\n",
      "0.693\n",
      "theta:\n",
      "\t[-2.516, -2.516, -2.516]\n"
     ]
    }
   ],
   "source": [
    "# cost function and gradient descent\n",
    "m, n = X.shape\n",
    "X = np.concatenate([np.ones((m, 1)), X], axis=1)\n",
    "theta_zero = np.zeros(n+1)\n",
    "cost,grad = cost_function(theta_zero,X,y)\n",
    "print(\"{:.3f}\".format(cost))\n",
    "print('theta:')\n",
    "print('\\t[{:.3f}, {:.3f}, {:.3f}]'.format(*theta))"
   ]
  },
  {
   "cell_type": "code",
   "execution_count": 90,
   "metadata": {},
   "outputs": [
    {
     "name": "stdout",
     "output_type": "stream",
     "text": [
      "get cost as 0.203 and the expected value is 0.203\n",
      "[-25.1613187    0.20623159   0.20147149]\n"
     ]
    }
   ],
   "source": [
    "# learning parameters\n",
    "import scipy.optimize as op\n",
    "val = {'maxiter':400}\n",
    "result = op.minimize(cost_function,theta_zero,(X,y),jac=True,method='TNC',options=val)\n",
    "cost = result.fun\n",
    "theta = result.x\n",
    "print(\"get cost as {:.3f}\".format(cost)+\" and the expected value is 0.203\")\n",
    "print(theta)"
   ]
  },
  {
   "cell_type": "code",
   "execution_count": 91,
   "metadata": {},
   "outputs": [],
   "source": [
    "# predict an example\n",
    "def predict(theta, X):\n",
    "    m = X.shape[0]\n",
    "\n",
    "    # Return the following variable correctly\n",
    "    p = np.zeros(m)\n",
    "    p = np.round(sigmoid(X.dot(theta.T)))\n",
    "    return p"
   ]
  },
  {
   "cell_type": "code",
   "execution_count": 94,
   "metadata": {},
   "outputs": [
    {
     "name": "stdout",
     "output_type": "stream",
     "text": [
      "0.77629062453048\n",
      "the accuracy is 89.00%\n"
     ]
    }
   ],
   "source": [
    "probability = sigmoid(np.dot([1,45,85],theta))\n",
    "print(probability)\n",
    "p =predict(theta,X)\n",
    "print(\"the accuracy is {:.2f}%\".format(np.mean(p==y)*100))"
   ]
  },
  {
   "cell_type": "markdown",
   "metadata": {},
   "source": [
    "## regularized logistic regression"
   ]
  },
  {
   "cell_type": "code",
   "execution_count": 104,
   "metadata": {},
   "outputs": [
    {
     "data": {
      "text/plain": [
       "Text(0, 0.5, 'microchip 2 score')"
      ]
     },
     "execution_count": 104,
     "metadata": {},
     "output_type": "execute_result"
    },
    {
     "data": {
      "image/png": "[encoded data removed]",
      "text/plain": [
       "<Figure size 432x288 with 1 Axes>"
      ]
     },
     "metadata": {
      "needs_background": "light"
     },
     "output_type": "display_data"
    }
   ],
   "source": [
    "# regularized logistic regression\n",
    "data = np.loadtxt('ex2data2.txt',delimiter=',')\n",
    "X = data[:,:2]\n",
    "y = data[:,2]\n",
    "accepted = y==1\n",
    "rejected = y==0\n",
    "plt.plot(X[accepted,0],X[accepted,1],'k+',lw=1,label=\"accepted\")\n",
    "plt.plot(X[rejected,0],X[rejected,1],'ko',lw=0.5,ms=4,color=\"orange\",label=\"rejected\")\n",
    "plt.legend(loc='upper right')\n",
    "plt.xlabel(\"microchip 1 score\")\n",
    "plt.ylabel(\"microchip 2 score\")"
   ]
  },
  {
   "cell_type": "code",
   "execution_count": 105,
   "metadata": {},
   "outputs": [],
   "source": [
    "# using map feature to build a better classifier\n",
    "# this is given\n",
    "def map_feature(x1, x2):\n",
    "    degree = 6\n",
    "\n",
    "    x1 = x1.reshape((x1.size, 1))\n",
    "    x2 = x2.reshape((x2.size, 1))\n",
    "    result = np.ones(x1[:, 0].shape)\n",
    "\n",
    "    for i in range(1, degree + 1):\n",
    "        for j in range(0, i + 1):\n",
    "            result = np.c_[result, (x1**(i-j)) * (x2**j)]\n",
    "\n",
    "    return result"
   ]
  },
  {
   "cell_type": "code",
   "execution_count": 108,
   "metadata": {},
   "outputs": [],
   "source": [
    "X = map_feature(X[:, 0], X[:, 1])"
   ]
  },
  {
   "cell_type": "code",
   "execution_count": 115,
   "metadata": {},
   "outputs": [],
   "source": [
    "def cost_function_reg(theta, X, y, lmd):\n",
    "    m = y.size\n",
    "\n",
    "    # You need to return the following values correctly\n",
    "    cost = 0\n",
    "    grad = np.zeros(theta.shape)\n",
    "    t = theta\n",
    "    t[0] = 0\n",
    "    temp=sigmoid(X.dot(theta.T))\n",
    "    cost = (1/m)*np.sum(-y.dot(np.log(temp))-(1-y).dot(np.log(1-temp)))+(lmd/m)*np.sum(np.square(t))\n",
    "    grad = (1/m) * (temp-y).dot(X) + (lmd/m)*t\n",
    "    return cost, grad"
   ]
  },
  {
   "cell_type": "code",
   "execution_count": 122,
   "metadata": {},
   "outputs": [
    {
     "name": "stdout",
     "output_type": "stream",
     "text": [
      "0.693\n",
      "grad:\n",
      "\t[0.00847, 0.00847, 0.01879,0.00847,0.01879]\n"
     ]
    }
   ],
   "source": [
    "theta_zero=np.zeros(X.shape[1])\n",
    "lmd = 1\n",
    "cost,grad = cost_function_reg(theta_zero,X,y,lmd)\n",
    "print(\"{:.3f}\".format(cost))\n",
    "print('grad:')\n",
    "print('\\t[{:.5f}, {:.5f}, {:.5f},{:.5f},{:.5f}]'.format(*grad[:5]))"
   ]
  },
  {
   "cell_type": "code",
   "execution_count": 136,
   "metadata": {},
   "outputs": [
    {
     "name": "stdout",
     "output_type": "stream",
     "text": [
      "get cost as 0.620\n",
      "[0.         0.1218427  0.03990435 0.1218427  0.03990435]\n"
     ]
    }
   ],
   "source": [
    "val = {'maxiter':400}\n",
    "result = op.minimize(cost_function_reg,theta_zero,(X,y,lmd),method='TNC',jac=True,options=val)\n",
    "cost = result.fun\n",
    "theta = result.x\n",
    "print(\"get cost as {:.3f}\".format(cost))\n",
    "print(theta[:5])"
   ]
  },
  {
   "cell_type": "code",
   "execution_count": null,
   "metadata": {},
   "outputs": [],
   "source": []
  }
 ],
 "metadata": {
  "kernelspec": {
   "display_name": "Python 3",
   "language": "python",
   "name": "python3"
  },
  "language_info": {
   "codemirror_mode": {
    "name": "ipython",
    "version": 3
   },
   "file_extension": ".py",
   "mimetype": "text/x-python",
   "name": "python",
   "nbconvert_exporter": "python",
   "pygments_lexer": "ipython3",
   "version": "3.7.4"
  }
 },
 "nbformat": 4,
 "nbformat_minor": 2
}
