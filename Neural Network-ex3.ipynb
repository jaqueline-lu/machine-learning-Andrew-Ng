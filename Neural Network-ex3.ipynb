{
 "cells": [
  {
   "cell_type": "code",
   "execution_count": 155,
   "metadata": {},
   "outputs": [],
   "source": [
    "import numpy as np\n",
    "import matplotlib.pyplot as plt\n",
    "import pandas as pd\n",
    "import scipy.io\n",
    "%matplotlib inline\n",
    "import scipy.misc\n",
    "import matplotlib.cm as cm\n",
    "import random\n",
    "from scipy.special import expit"
   ]
  },
  {
   "cell_type": "markdown",
   "metadata": {},
   "source": [
    "## Multi-Class Classification\n",
    "### Dataset"
   ]
  },
  {
   "cell_type": "code",
   "execution_count": 156,
   "metadata": {},
   "outputs": [
    {
     "name": "stdout",
     "output_type": "stream",
     "text": [
      "(5000, 1)\n",
      "<class 'int'> <class 'int'>\n",
      "(5000, 401)\n"
     ]
    }
   ],
   "source": [
    "mat = scipy.io.loadmat('ex3data1.mat')\n",
    "X, y = mat['X'], mat['y']\n",
    "# Get a 1's column into X\n",
    "m = len(y)\n",
    "ones = np.ones((m,1))\n",
    "X = np.hstack((ones, X)) #add the intercept\n",
    "(m,n) = X.shape\n",
    "print(y.shape) # y is a classification for the image\n",
    "print(type(y.shape[1]),type(y.shape[0]))\n",
    "print(X.shape) # X is 5000 images"
   ]
  },
  {
   "cell_type": "code",
   "execution_count": 158,
   "metadata": {},
   "outputs": [
    {
     "data": {
      "text/plain": [
       "(-0.5, 399.5, 19.5, -0.5)"
      ]
     },
     "execution_count": 158,
     "metadata": {},
     "output_type": "execute_result"
    },
    {
     "data": {
      "image/png": "[encoded data removed]",
      "text/plain": [
       "<Figure size 432x288 with 1 Axes>"
      ]
     },
     "metadata": {
      "needs_background": "light"
     },
     "output_type": "display_data"
    }
   ],
   "source": [
    "# visualizing some part of the data\n",
    "visual= np.random.choice(X.shape[0],20)\n",
    "plt.imshow(X[visual,1:].reshape(-5,20).T)\n",
    "plt.axis('off')"
   ]
  },
  {
   "cell_type": "markdown",
   "metadata": {},
   "source": [
    "### Logistic Regression\n"
   ]
  },
  {
   "cell_type": "code",
   "execution_count": 159,
   "metadata": {},
   "outputs": [],
   "source": [
    "def sigmoid(z):\n",
    "    return 1/(1+np.exp(-z))"
   ]
  },
  {
   "cell_type": "markdown",
   "metadata": {},
   "source": [
    "### Regularized Cost Function\n",
    "${J(\\theta) = (1 \\div m) \\sum^{m}_{i=1}[-y^{i}log(h_{\\theta}(x^i))-(1-y^i)log(1-h_{\\theta}(x^i))]+\\lambda \\div (2m) \\sum^n_{j=1}\\theta^2_j}$\n",
    "### Vectorized Cost Function\n",
    "${J(\\theta)=1/m((log(g(X\\theta))^Ty+(log(1-g(X\\theta))^T(1-y))+\\lambda/(2m)\\sum^n_{j=1}\\theta^2_j}$"
   ]
  },
  {
   "cell_type": "code",
   "execution_count": 160,
   "metadata": {},
   "outputs": [],
   "source": [
    "def lrcostFuncReg(theta,X,y,lmd):\n",
    "    #m = len(y)\n",
    "    temp = sigmoid(X.dot(theta))\n",
    "    temp1 = np.multiply(y,np.log(temp))\n",
    "    temp2 = np.multiply(1-y,np.log(1-temp))\n",
    "    return np.sum(temp1+temp2)/(-m)+np.sum(theta[1:]**2)*lmd/(2*m)"
   ]
  },
  {
   "cell_type": "code",
   "execution_count": 161,
   "metadata": {},
   "outputs": [],
   "source": [
    "def lrgradientReg(theta,X,y,lmd):\n",
    "    #m = len(y)\n",
    "    temp = sigmoid(X.dot(theta))-y\n",
    "    temp1 = np.dot(temp.T,X).T/m + theta*lmd/m\n",
    "    temp1[0]=temp1[0] - theta[0]*lmd/m\n",
    "    return temp1"
   ]
  },
  {
   "cell_type": "code",
   "execution_count": 162,
   "metadata": {},
   "outputs": [
    {
     "name": "stdout",
     "output_type": "stream",
     "text": [
      "Warning: Maximum number of iterations has been exceeded.\n",
      "         Current function value: 0.009110\n",
      "         Iterations: 50\n",
      "         Function evaluations: 182\n",
      "         Gradient evaluations: 182\n",
      "Warning: Maximum number of iterations has been exceeded.\n",
      "         Current function value: 0.014069\n",
      "         Iterations: 50\n",
      "         Function evaluations: 180\n",
      "         Gradient evaluations: 180\n",
      "Warning: Maximum number of iterations has been exceeded.\n",
      "         Current function value: 0.057151\n",
      "         Iterations: 50\n",
      "         Function evaluations: 140\n",
      "         Gradient evaluations: 140\n",
      "Warning: Maximum number of iterations has been exceeded.\n",
      "         Current function value: 0.061954\n",
      "         Iterations: 50\n",
      "         Function evaluations: 139\n",
      "         Gradient evaluations: 139\n",
      "Warning: Maximum number of iterations has been exceeded.\n",
      "         Current function value: 0.037404\n",
      "         Iterations: 50\n",
      "         Function evaluations: 154\n",
      "         Gradient evaluations: 154\n",
      "Warning: Maximum number of iterations has been exceeded.\n",
      "         Current function value: 0.063881\n",
      "         Iterations: 50\n",
      "         Function evaluations: 131\n",
      "         Gradient evaluations: 131\n",
      "Warning: Maximum number of iterations has been exceeded.\n",
      "         Current function value: 0.020031\n",
      "         Iterations: 50\n",
      "         Function evaluations: 175\n",
      "         Gradient evaluations: 175\n",
      "Warning: Maximum number of iterations has been exceeded.\n",
      "         Current function value: 0.033830\n",
      "         Iterations: 50\n",
      "         Function evaluations: 159\n",
      "         Gradient evaluations: 159\n",
      "Warning: Maximum number of iterations has been exceeded.\n",
      "         Current function value: 0.085516\n",
      "         Iterations: 50\n",
      "         Function evaluations: 131\n",
      "         Gradient evaluations: 131\n",
      "Warning: Maximum number of iterations has been exceeded.\n",
      "         Current function value: 0.076294\n",
      "         Iterations: 50\n",
      "         Function evaluations: 136\n",
      "         Gradient evaluations: 136\n"
     ]
    }
   ],
   "source": [
    "from scipy.optimize import fmin_cg\n",
    "\n",
    "#(m,n) = X.shape\n",
    "lmd=0.1\n",
    "k=10\n",
    "theta = np.zeros((k,n))\n",
    "for i in range(k):\n",
    "    digit = i if i else 10\n",
    "    check=(y==digit).flatten()\n",
    "    theta[i] = fmin_cg(f=lrcostFuncReg,x0=theta[i],fprime = lrgradientReg,args=(X,check,lmd),maxiter=50)"
   ]
  },
  {
   "cell_type": "code",
   "execution_count": 163,
   "metadata": {},
   "outputs": [
    {
     "data": {
      "text/plain": [
       "95.08"
      ]
     },
     "execution_count": 163,
     "metadata": {},
     "output_type": "execute_result"
    }
   ],
   "source": [
    "pred = np.argmax(X @ theta.T, axis = 1)\n",
    "pred = [e if e else 10 for e in pred]\n",
    "np.mean(pred == y.flatten()) * 100"
   ]
  },
  {
   "cell_type": "code",
   "execution_count": 166,
   "metadata": {},
   "outputs": [
    {
     "name": "stderr",
     "output_type": "stream",
     "text": [
      "C:\\Users\\LU\\Anaconda3\\lib\\site-packages\\sklearn\\linear_model\\logistic.py:469: FutureWarning: Default multi_class will be changed to 'auto' in 0.22. Specify the multi_class option to silence this warning.\n",
      "  \"this warning.\", FutureWarning)\n"
     ]
    },
    {
     "name": "stdout",
     "output_type": "stream",
     "text": [
      "Using Logistic Regression in scikit-learn: 96.5%\n"
     ]
    }
   ],
   "source": [
    "from sklearn.linear_model import LogisticRegression\n",
    "lr = LogisticRegression(C=10,penalty='l2',solver='liblinear')\n",
    "lr.fit(X[:,1:],y.ravel())\n",
    "pred_new = lr.predict(X[:,1:])\n",
    "print('Using Logistic Regression in scikit-learn: {}%'.format(np.mean(pred_new == y.ravel())*100))"
   ]
  },
  {
   "cell_type": "markdown",
   "metadata": {},
   "source": [
    "## Neural Networks"
   ]
  },
  {
   "cell_type": "code",
   "execution_count": 168,
   "metadata": {},
   "outputs": [
    {
     "name": "stdout",
     "output_type": "stream",
     "text": [
      "Neural Network accuracy:97.52%\n"
     ]
    }
   ],
   "source": [
    "def predict(theta1,theta2,f):\n",
    "    z2 = theta1.dot(f.T)\n",
    "    a2 = np.c_[np.ones((mat['X'].shape[0],1)),sigmoid(z2).T]\n",
    "    z3 = a2.dot(theta2.T)\n",
    "    a3 = sigmoid(z3)\n",
    "    return np.argmax(a3,axis=1)+1\n",
    "weights = scipy.io.loadmat('ex3weights.mat')\n",
    "theta1, theta2 = weights['Theta1'],weights['Theta2']\n",
    "#print(theta1.shape)\n",
    "#print(theta2.shape)\n",
    "pred = predict(theta1,theta2,X)\n",
    "print('Neural Network accuracy:{}%'.format(np.mean(pred==y.ravel())*100))"
   ]
  }
 ],
 "metadata": {
  "kernelspec": {
   "display_name": "Python 3",
   "language": "python",
   "name": "python3"
  },
  "language_info": {
   "codemirror_mode": {
    "name": "ipython",
    "version": 3
   },
   "file_extension": ".py",
   "mimetype": "text/x-python",
   "name": "python",
   "nbconvert_exporter": "python",
   "pygments_lexer": "ipython3",
   "version": "3.7.4"
  }
 },
 "nbformat": 4,
 "nbformat_minor": 2
}
