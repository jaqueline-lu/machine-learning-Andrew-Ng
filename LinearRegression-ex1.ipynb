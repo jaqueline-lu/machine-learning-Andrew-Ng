{
 "cells": [
  {
   "cell_type": "code",
   "execution_count": 63,
   "metadata": {},
   "outputs": [],
   "source": [
    "import matplotlib.pyplot as plt\n",
    "import numpy as np\n",
    "from matplotlib.colors import LogNorm\n",
    "from mpl_toolkits.mplot3d import axes3d, Axes3D"
   ]
  },
  {
   "cell_type": "code",
   "execution_count": 64,
   "metadata": {},
   "outputs": [
    {
     "data": {
      "text/plain": [
       "Text(0, 0.5, 'profit in $10,000s')"
      ]
     },
     "execution_count": 64,
     "metadata": {},
     "output_type": "execute_result"
    },
    {
     "data": {
      "image/png": "[encoded data removed]",
      "text/plain": [
       "<Figure size 432x288 with 1 Axes>"
      ]
     },
     "metadata": {
      "needs_background": "light"
     },
     "output_type": "display_data"
    }
   ],
   "source": [
    "#print('plotting data')\n",
    "#data = np.loadtxt(os.path.join('Data', 'ex1data1.txt'), delimiter=',')\n",
    "data = np.loadtxt('ex1data1.txt',delimiter=',')\n",
    "X = data[:,0]\n",
    "Y = data[:,1]\n",
    "m = Y.size\n",
    "plt.scatter(X,Y,1,lw=8,marker='*')\n",
    "plt.xlabel(\"population of city in 10,000s\")\n",
    "plt.ylabel(\"profit in $10,000s\")"
   ]
  },
  {
   "cell_type": "code",
   "execution_count": 65,
   "metadata": {},
   "outputs": [
    {
     "name": "stdout",
     "output_type": "stream",
     "text": [
      "32.072733877455676\n",
      "Expected J value: 32.07\n"
     ]
    }
   ],
   "source": [
    "#def h(theta,X): #Linear hypothesis function\n",
    " #   return np.dot(X,theta)\n",
    "def compute_cost(X, y, theta):\n",
    "    m = y.size \n",
    "    J = 0\n",
    "    J = (1/(2 * m)) * np.sum(np.square(np.dot(X, theta) - y))\n",
    "    return J\n",
    "\n",
    "X1 = np.stack([np.ones(m),X], axis=1) #add one column of 1 to X\n",
    "#print(X1)\n",
    "#theta = np.zeros(2) #initialize fitting parameters\n",
    "iterations = 1500\n",
    "alpha = 0.01\n",
    "\n",
    "#J = computeCost(X, Y, theta=np.array([0.0, 0.0]))\n",
    "\n",
    "J = compute_cost(X1, Y, theta=np.array([0.0, 0.0]))\n",
    "print(J)\n",
    "print(\"Expected J value: 32.07\")"
   ]
  },
  {
   "cell_type": "code",
   "execution_count": 66,
   "metadata": {},
   "outputs": [
    {
     "name": "stdout",
     "output_type": "stream",
     "text": [
      "Theta found by gradient descent: -3.6303, 1.1664\n",
      "Expected theta values (approximately): [-3.6303, 1.1664]\n"
     ]
    }
   ],
   "source": [
    "# gradient descent\n",
    "X=X1\n",
    "def gradient_descent(X, y, theta, alpha, num_iters):\n",
    "    # Initialize some useful values\n",
    "    m = y.size\n",
    "    J_history = np.zeros(num_iters)\n",
    "\n",
    "    for i in range(0, num_iters):\n",
    "        m = y.shape[0]\n",
    "        theta_copy = theta.copy()\n",
    "        J_history=[]\n",
    "        theta = theta - (alpha / m) * (np.dot(X, theta) - y).dot(X)\n",
    "        J_history.append(compute_cost(X1,y,theta))\n",
    "\n",
    "    return theta, J_history\n",
    "theta = np.zeros(2)\n",
    "theta, J_history = gradient_descent(X,Y, theta, alpha, iterations)\n",
    "print('Theta found by gradient descent: {:.4f}, {:.4f}'.format(*theta))\n",
    "print('Expected theta values (approximately): [-3.6303, 1.1664]')"
   ]
  },
  {
   "cell_type": "code",
   "execution_count": 67,
   "metadata": {},
   "outputs": [
    {
     "name": "stdout",
     "output_type": "stream",
     "text": [
      "For population size as 35,000, a predicted profit of 4519.77\n",
      "\n",
      "For population size as 70,000, a predicted profit of 45342.45\n",
      "\n"
     ]
    },
    {
     "data": {
      "image/png": "[encoded data removed]",
      "text/plain": [
       "<Figure size 432x288 with 1 Axes>"
      ]
     },
     "metadata": {
      "needs_background": "light"
     },
     "output_type": "display_data"
    }
   ],
   "source": [
    "plt.scatter(X[:,1],Y)\n",
    "plt.plot(X[:,1],np.dot(X,theta),'-',color='r')\n",
    "plt.legend(['training data','linear regression'])\n",
    "\n",
    "predict1 = np.dot([1, 3.5], theta)\n",
    "print('For population size as 35,000, a predicted profit of {:.2f}\\n'.format(predict1*10000))\n",
    "\n",
    "predict2 = np.dot([1, 7], theta)\n",
    "print('For population size as 70,000, a predicted profit of {:.2f}\\n'.format(predict2*10000))"
   ]
  },
  {
   "cell_type": "code",
   "execution_count": 68,
   "metadata": {},
   "outputs": [
    {
     "name": "stdout",
     "output_type": "stream",
     "text": [
      "the mean is :[2000.68085106    3.17021277]\n",
      "the std is :[7.86202619e+02 7.52842809e-01]\n"
     ]
    }
   ],
   "source": [
    "data1= np.loadtxt('ex1data2.txt',delimiter=',')\n",
    "data=data1.copy()\n",
    "X = data[:,:2]\n",
    "Y = data[:,2]\n",
    "m=Y.size\n",
    "def feature_normalize(X):\n",
    "    # You need to set these values correctly\n",
    "    n = X.shape[1]  # the number of features\n",
    "    X_norm = X.copy()\n",
    "    mu = np.zeros(X.shape[1])\n",
    "    sigma = np.zeros(X.shape[1])\n",
    "\n",
    "    mu = np.mean(X,axis=0)\n",
    "    sigma=np.std(X,axis=0)\n",
    "    X_norm=(X-mu)/sigma\n",
    "\n",
    "\n",
    "    return X_norm, mu, sigma\n",
    "\n",
    "X_norm,mu,sigma=feature_normalize(X)\n",
    "print(\"the mean is :\"+str(mu))\n",
    "print(\"the std is :\"+str(sigma))\n"
   ]
  },
  {
   "cell_type": "code",
   "execution_count": 69,
   "metadata": {},
   "outputs": [],
   "source": [
    "#print(X_norm.shape[1])\n",
    "X = np.concatenate([np.ones((m, 1)), X_norm], axis=1)"
   ]
  },
  {
   "cell_type": "code",
   "execution_count": 70,
   "metadata": {},
   "outputs": [
    {
     "name": "stdout",
     "output_type": "stream",
     "text": [
      "Theta found by gradient descent: [340412.56301439 109370.05670466  -6500.61509507]\n",
      "Predicted price for a 1650 sq-ft, 3 br house: $293098\n"
     ]
    }
   ],
   "source": [
    "# for gradient descent\n",
    "def compute_costmulti(X,y,theta):\n",
    "    m = y.shape[0] # number of training examples\n",
    "    J = 0\n",
    "    h = np.dot(X, theta)\n",
    "    \n",
    "    J = (1/(2 * m)) * np.sum(np.square(np.dot(X, theta) - y))\n",
    "    return J\n",
    "\n",
    "def gradient_descentmulti(X, y, theta, alpha, num_iters):\n",
    "    # Initialize some useful values\n",
    "    m = y.shape[0]\n",
    "    theta_copy = theta.copy()\n",
    "    J_history=[]\n",
    "    for i in range(num_iters):\n",
    "        theta = theta - (alpha / m) * (np.dot(X, theta) - y).dot(X)\n",
    "        J_history.append(compute_costmulti(X,y,theta))\n",
    "\n",
    "    return theta, J_history\n",
    "theta = np.zeros(3)\n",
    "theta, J_history = gradient_descentmulti(X,Y, theta, alpha, iterations)\n",
    "print('Theta found by gradient descent: {:s}'.format(str(theta)))\n",
    "\n",
    "X_array = [1, 1650, 3]\n",
    "X_array[1:3] = (X_array[1:3] - mu) / sigma\n",
    "price = np.dot(X_array, theta)   # You should change this\n",
    "\n",
    "print('Predicted price for a 1650 sq-ft, 3 br house: ${:.0f}'.format(price))"
   ]
  },
  {
   "cell_type": "code",
   "execution_count": 71,
   "metadata": {},
   "outputs": [],
   "source": [
    "data2 = np.loadtxt('ex1data2.txt',delimiter=',')\n",
    "data=data2.copy()\n",
    "X=data[:,:2]\n",
    "Y=data[:,2]\n",
    "m = Y.size\n",
    "X = np.concatenate([np.ones((m, 1)), X], axis=1)"
   ]
  },
  {
   "cell_type": "code",
   "execution_count": 72,
   "metadata": {},
   "outputs": [
    {
     "name": "stdout",
     "output_type": "stream",
     "text": [
      "[89597.9095428    139.21067402 -8738.01911233]\n",
      "293081.4643348931\n"
     ]
    }
   ],
   "source": [
    "# normal equation\n",
    "def normaleqn(X,y):\n",
    "    #theta = np.zeros(X.shape[1])\n",
    "    return np.dot(np.linalg.inv(np.dot(X.T,X)),np.dot(X.T,y))\n",
    "    #return theta\n",
    "\n",
    "theta=normaleqn(X,Y)\n",
    "print(theta)\n",
    "X = [1,1650,3]\n",
    "#X[1:3]=(X[1:3]-mu)/sigma\n",
    "price=np.dot(X,theta)\n",
    "print(price)"
   ]
  }
 ],
 "metadata": {
  "kernelspec": {
   "display_name": "Python 3",
   "language": "python",
   "name": "python3"
  },
  "language_info": {
   "codemirror_mode": {
    "name": "ipython",
    "version": 3
   },
   "file_extension": ".py",
   "mimetype": "text/x-python",
   "name": "python",
   "nbconvert_exporter": "python",
   "pygments_lexer": "ipython3",
   "version": "3.7.4"
  }
 },
 "nbformat": 4,
 "nbformat_minor": 2
}
